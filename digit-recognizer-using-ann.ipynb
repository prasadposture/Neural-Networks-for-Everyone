{
 "cells": [
  {
   "cell_type": "markdown",
   "id": "e9edbd8c",
   "metadata": {
    "papermill": {
     "duration": 0.01931,
     "end_time": "2024-08-01T09:33:20.220962",
     "exception": false,
     "start_time": "2024-08-01T09:33:20.201652",
     "status": "completed"
    },
    "tags": []
   },
   "source": [
    "<div style=\"color:#00ADB5;\n",
    "               display:fill;\n",
    "               border-radius:5px;\n",
    "               background-color:#393E46;\n",
    "               font-size: 30px;\n",
    "               font-family:sans-serif;\n",
    "               letter-spacing:0.5px\">\n",
    "            <p style=\"padding: 10px;\n",
    "                  color:white;\">\n",
    "                <b> Digit Recognizer: ANN</b>\n",
    "            </p>\n",
    "    </div>"
   ]
  },
  {
   "cell_type": "markdown",
   "id": "cac5c37c",
   "metadata": {
    "papermill": {
     "duration": 0.018231,
     "end_time": "2024-08-01T09:34:22.486072",
     "exception": false,
     "start_time": "2024-08-01T09:34:22.467841",
     "status": "completed"
    },
    "tags": []
   },
   "source": [
    "## Importing Dependencies"
   ]
  },
  {
   "cell_type": "code",
   "execution_count": 1,
   "id": "da3b8c3c",
   "metadata": {
    "execution": {
     "iopub.execute_input": "2024-08-01T09:34:22.525770Z",
     "iopub.status.busy": "2024-08-01T09:34:22.524791Z",
     "iopub.status.idle": "2024-08-01T09:34:24.468724Z",
     "shell.execute_reply": "2024-08-01T09:34:24.467929Z"
    },
    "papermill": {
     "duration": 1.966715,
     "end_time": "2024-08-01T09:34:24.471453",
     "exception": false,
     "start_time": "2024-08-01T09:34:22.504738",
     "status": "completed"
    },
    "tags": []
   },
   "outputs": [],
   "source": [
    "import numpy as np\n",
    "import matplotlib.pyplot as plt\n",
    "import pandas as pd\n",
    "\n",
    "from sklearn.preprocessing import OneHotEncoder\n",
    "from sklearn.metrics import r2_score, accuracy_score\n",
    "\n",
    "import torch\n",
    "import torch.nn as nn\n",
    "import torch.optim as optim\n",
    "from torch.utils.data import Dataset, DataLoader, TensorDataset, random_split\n",
    "# from torch ? for loss # we will need cross entropy loss since multiple classes are involved"
   ]
  },
  {
   "cell_type": "markdown",
   "id": "b055b4b0",
   "metadata": {
    "papermill": {
     "duration": 0.018141,
     "end_time": "2024-08-01T09:34:24.508388",
     "exception": false,
     "start_time": "2024-08-01T09:34:24.490247",
     "status": "completed"
    },
    "tags": []
   },
   "source": [
    "## Data Preprocessing"
   ]
  },
  {
   "cell_type": "code",
   "execution_count": 2,
   "id": "31fbd623",
   "metadata": {
    "execution": {
     "iopub.execute_input": "2024-08-01T09:34:24.547481Z",
     "iopub.status.busy": "2024-08-01T09:34:24.546986Z",
     "iopub.status.idle": "2024-08-01T09:34:28.927532Z",
     "shell.execute_reply": "2024-08-01T09:34:28.926420Z"
    },
    "papermill": {
     "duration": 4.403498,
     "end_time": "2024-08-01T09:34:28.930090",
     "exception": false,
     "start_time": "2024-08-01T09:34:24.526592",
     "status": "completed"
    },
    "tags": []
   },
   "outputs": [],
   "source": [
    "train = pd.read_csv('train.csv')\n",
    "test = pd.read_csv('test.csv')\n",
    "\n",
    "encoder = OneHotEncoder(sparse_output=False, handle_unknown='ignore')\n",
    "encoder.fit(train[['label']])\n",
    "encoded_cols = list(encoder.get_feature_names_out(['label']))\n",
    "train[encoded_cols] = encoder.transform(train[['label']])\n",
    "\n",
    "train.drop(labels=['label'], inplace=True, axis=1)\n",
    "\n",
    "X_train = train.drop(labels=encoded_cols, axis=1).values\n",
    "Y_train = train[encoded_cols].values\n",
    "X_test = test.values\n",
    "\n",
    "X_train = X_train/255\n",
    "X_test  = X_test/255"
   ]
  },
  {
   "cell_type": "markdown",
   "id": "f7cd81d3",
   "metadata": {
    "papermill": {
     "duration": 0.01836,
     "end_time": "2024-08-01T09:34:29.435031",
     "exception": false,
     "start_time": "2024-08-01T09:34:29.416671",
     "status": "completed"
    },
    "tags": []
   },
   "source": [
    "## Loading Data"
   ]
  },
  {
   "cell_type": "code",
   "execution_count": 3,
   "id": "9d5f93c4",
   "metadata": {
    "execution": {
     "iopub.execute_input": "2024-08-01T09:34:29.474001Z",
     "iopub.status.busy": "2024-08-01T09:34:29.473169Z",
     "iopub.status.idle": "2024-08-01T09:34:29.539093Z",
     "shell.execute_reply": "2024-08-01T09:34:29.538210Z"
    },
    "papermill": {
     "duration": 0.088013,
     "end_time": "2024-08-01T09:34:29.541526",
     "exception": false,
     "start_time": "2024-08-01T09:34:29.453513",
     "status": "completed"
    },
    "tags": []
   },
   "outputs": [],
   "source": [
    "input_tensor = torch.tensor(X_train, dtype=torch.float32)\n",
    "output_tensor = torch.tensor(Y_train, dtype=torch.float32)\n",
    "dataset = TensorDataset(input_tensor, output_tensor)\n",
    "train_size = round(len(dataset)*0.8)\n",
    "val_size = len(dataset)-train_size\n",
    "train_dataset, val_dataset = random_split(dataset, [train_size, val_size])\n",
    "batch_size = 100 # can change later\n",
    "train_loader = DataLoader(train_dataset,batch_size = batch_size, shuffle=True, num_workers=4 ) # for number of cores at work\n",
    "val_loader  = DataLoader(val_dataset, batch_size = batch_size)\n",
    "# Since the iteration over the batches is done for optimizing weights more efficiently"
   ]
  },
  {
   "cell_type": "markdown",
   "id": "5f3af264",
   "metadata": {
    "papermill": {
     "duration": 0.018159,
     "end_time": "2024-08-01T09:34:29.578293",
     "exception": false,
     "start_time": "2024-08-01T09:34:29.560134",
     "status": "completed"
    },
    "tags": []
   },
   "source": [
    "## Architecture"
   ]
  },
  {
   "cell_type": "code",
   "execution_count": 4,
   "id": "4e146a7a",
   "metadata": {
    "execution": {
     "iopub.execute_input": "2024-08-01T09:34:29.616239Z",
     "iopub.status.busy": "2024-08-01T09:34:29.615934Z",
     "iopub.status.idle": "2024-08-01T09:34:33.012330Z",
     "shell.execute_reply": "2024-08-01T09:34:33.011277Z"
    },
    "papermill": {
     "duration": 3.418193,
     "end_time": "2024-08-01T09:34:33.014904",
     "exception": false,
     "start_time": "2024-08-01T09:34:29.596711",
     "status": "completed"
    },
    "tags": []
   },
   "outputs": [],
   "source": [
    "# Model Architecture\n",
    "class ANN(nn.Module):\n",
    "    def __init__(self, input_features, n_class):\n",
    "        super(ANN, self).__init__()\n",
    "        self.l1 = nn.Linear(input_features, 256)\n",
    "        self.l2 = nn.Linear(256, 64)\n",
    "#         self.l3 = nn.Linear(128, 64)\n",
    "#         self.l4 = nn.Linear(64, 32)\n",
    "        self.l5 = nn.Linear(64, n_class)\n",
    "    \n",
    "    def forward(self, x):\n",
    "        x = torch.relu(self.l1(x))\n",
    "        x = torch.relu(self.l2(x))\n",
    "#         x = torch.relu(self.l3(x))\n",
    "#         x = torch.relu(self.l4(x))\n",
    "        x = self.l5(x)\n",
    "        return x\n",
    "\n",
    "# Pushing Model to GPU if it is available\n",
    "device = torch.device('cuda' if torch.cuda.is_available() else 'cpu')\n",
    "model = ANN(input_features=784, n_class = 10).to(device)"
   ]
  },
  {
   "cell_type": "markdown",
   "id": "b0ce482b",
   "metadata": {
    "papermill": {
     "duration": 0.018092,
     "end_time": "2024-08-01T09:34:33.051704",
     "exception": false,
     "start_time": "2024-08-01T09:34:33.033612",
     "status": "completed"
    },
    "tags": []
   },
   "source": [
    "## Training and Evaluation"
   ]
  },
  {
   "cell_type": "code",
   "execution_count": null,
   "id": "637f55ce",
   "metadata": {
    "execution": {
     "iopub.execute_input": "2024-08-01T09:34:33.090313Z",
     "iopub.status.busy": "2024-08-01T09:34:33.089698Z",
     "iopub.status.idle": "2024-08-01T09:34:48.409870Z",
     "shell.execute_reply": "2024-08-01T09:34:48.408679Z"
    },
    "papermill": {
     "duration": 15.341899,
     "end_time": "2024-08-01T09:34:48.412178",
     "exception": false,
     "start_time": "2024-08-01T09:34:33.070279",
     "status": "completed"
    },
    "tags": []
   },
   "outputs": [
    {
     "name": "stdout",
     "output_type": "stream",
     "text": [
      "Epoch: 1/100, Training Loss: 0.45800, Validation Loss: 0.23396, Training Acc: 0.87095, Validation Acc: 0.93036\n",
      "Epoch: 2/100, Training Loss: 0.17555, Validation Loss: 0.15138, Training Acc: 0.94902, Validation Acc: 0.95452\n",
      "Epoch: 3/100, Training Loss: 0.11952, Validation Loss: 0.12363, Training Acc: 0.96491, Validation Acc: 0.96500\n",
      "Epoch: 4/100, Training Loss: 0.08800, Validation Loss: 0.11700, Training Acc: 0.97268, Validation Acc: 0.96667\n",
      "Epoch: 5/100, Training Loss: 0.06623, Validation Loss: 0.10301, Training Acc: 0.97923, Validation Acc: 0.96881\n",
      "Epoch: 6/100, Training Loss: 0.05013, Validation Loss: 0.10720, Training Acc: 0.98473, Validation Acc: 0.96810\n",
      "Epoch: 7/100, Training Loss: 0.03956, Validation Loss: 0.10982, Training Acc: 0.98777, Validation Acc: 0.96857\n",
      "Epoch: 8/100, Training Loss: 0.03048, Validation Loss: 0.10818, Training Acc: 0.99039, Validation Acc: 0.97167\n",
      "Epoch: 9/100, Training Loss: 0.02289, Validation Loss: 0.11052, Training Acc: 0.99304, Validation Acc: 0.97143\n",
      "Epoch: 10/100, Training Loss: 0.01795, Validation Loss: 0.09844, Training Acc: 0.99461, Validation Acc: 0.97536\n",
      "Epoch: 11/100, Training Loss: 0.01403, Validation Loss: 0.10526, Training Acc: 0.99595, Validation Acc: 0.97429\n",
      "Epoch: 12/100, Training Loss: 0.01172, Validation Loss: 0.11646, Training Acc: 0.99682, Validation Acc: 0.97357\n",
      "Epoch: 13/100, Training Loss: 0.00892, Validation Loss: 0.10915, Training Acc: 0.99774, Validation Acc: 0.97512\n",
      "Epoch: 14/100, Training Loss: 0.00713, Validation Loss: 0.12618, Training Acc: 0.99845, Validation Acc: 0.97190\n",
      "Epoch: 15/100, Training Loss: 0.00722, Validation Loss: 0.12278, Training Acc: 0.99807, Validation Acc: 0.97440\n",
      "Epoch: 16/100, Training Loss: 0.01410, Validation Loss: 0.13410, Training Acc: 0.99518, Validation Acc: 0.97321\n",
      "Epoch: 17/100, Training Loss: 0.01012, Validation Loss: 0.14819, Training Acc: 0.99676, Validation Acc: 0.96917\n",
      "Epoch: 18/100, Training Loss: 0.00819, Validation Loss: 0.13801, Training Acc: 0.99732, Validation Acc: 0.97429\n",
      "Epoch: 19/100, Training Loss: 0.00403, Validation Loss: 0.12245, Training Acc: 0.99890, Validation Acc: 0.97595\n",
      "Epoch: 20/100, Training Loss: 0.00260, Validation Loss: 0.12255, Training Acc: 0.99932, Validation Acc: 0.97583\n",
      "Epoch: 21/100, Training Loss: 0.00081, Validation Loss: 0.12067, Training Acc: 0.99997, Validation Acc: 0.97762\n",
      "Epoch: 22/100, Training Loss: 0.00179, Validation Loss: 0.13083, Training Acc: 0.99958, Validation Acc: 0.97690\n",
      "Epoch: 23/100, Training Loss: 0.01540, Validation Loss: 0.12851, Training Acc: 0.99536, Validation Acc: 0.97357\n",
      "Epoch: 24/100, Training Loss: 0.00970, Validation Loss: 0.13848, Training Acc: 0.99688, Validation Acc: 0.97357\n",
      "Epoch: 25/100, Training Loss: 0.00454, Validation Loss: 0.13352, Training Acc: 0.99821, Validation Acc: 0.97476\n",
      "Epoch: 26/100, Training Loss: 0.00576, Validation Loss: 0.15334, Training Acc: 0.99827, Validation Acc: 0.97262\n",
      "Epoch: 27/100, Training Loss: 0.00190, Validation Loss: 0.13244, Training Acc: 0.99958, Validation Acc: 0.97690\n",
      "Epoch: 28/100, Training Loss: 0.00060, Validation Loss: 0.13801, Training Acc: 0.99997, Validation Acc: 0.97798\n",
      "Epoch: 29/100, Training Loss: 0.00015, Validation Loss: 0.13655, Training Acc: 1.00000, Validation Acc: 0.97857\n",
      "Epoch: 30/100, Training Loss: 0.00009, Validation Loss: 0.13823, Training Acc: 1.00000, Validation Acc: 0.97857\n",
      "Epoch: 31/100, Training Loss: 0.00008, Validation Loss: 0.13959, Training Acc: 1.00000, Validation Acc: 0.97857\n",
      "Epoch: 32/100, Training Loss: 0.00006, Validation Loss: 0.14121, Training Acc: 1.00000, Validation Acc: 0.97893\n",
      "Epoch: 33/100, Training Loss: 0.00005, Validation Loss: 0.14298, Training Acc: 1.00000, Validation Acc: 0.97893\n",
      "Epoch: 34/100, Training Loss: 0.00005, Validation Loss: 0.14478, Training Acc: 1.00000, Validation Acc: 0.97857\n",
      "Epoch: 35/100, Training Loss: 0.00004, Validation Loss: 0.14583, Training Acc: 1.00000, Validation Acc: 0.97893\n",
      "Epoch: 36/100, Training Loss: 0.00003, Validation Loss: 0.14773, Training Acc: 1.00000, Validation Acc: 0.97905\n",
      "Epoch: 37/100, Training Loss: 0.00003, Validation Loss: 0.14903, Training Acc: 1.00000, Validation Acc: 0.97869\n",
      "Epoch: 38/100, Training Loss: 0.00003, Validation Loss: 0.15081, Training Acc: 1.00000, Validation Acc: 0.97893\n",
      "Epoch: 39/100, Training Loss: 0.00002, Validation Loss: 0.15232, Training Acc: 1.00000, Validation Acc: 0.97857\n",
      "Epoch: 40/100, Training Loss: 0.00002, Validation Loss: 0.15404, Training Acc: 1.00000, Validation Acc: 0.97869\n",
      "Epoch: 41/100, Training Loss: 0.00002, Validation Loss: 0.15570, Training Acc: 1.00000, Validation Acc: 0.97881\n",
      "Epoch: 42/100, Training Loss: 0.00001, Validation Loss: 0.15738, Training Acc: 1.00000, Validation Acc: 0.97869\n",
      "Epoch: 43/100, Training Loss: 0.00001, Validation Loss: 0.15963, Training Acc: 1.00000, Validation Acc: 0.97833\n",
      "Epoch: 44/100, Training Loss: 0.00001, Validation Loss: 0.16090, Training Acc: 1.00000, Validation Acc: 0.97857\n",
      "Epoch: 45/100, Training Loss: 0.00001, Validation Loss: 0.16271, Training Acc: 1.00000, Validation Acc: 0.97821\n",
      "Epoch: 46/100, Training Loss: 0.00001, Validation Loss: 0.16514, Training Acc: 1.00000, Validation Acc: 0.97821\n",
      "Epoch: 47/100, Training Loss: 0.00001, Validation Loss: 0.16758, Training Acc: 1.00000, Validation Acc: 0.97810\n",
      "Epoch: 48/100, Training Loss: 0.00001, Validation Loss: 0.16964, Training Acc: 1.00000, Validation Acc: 0.97845\n",
      "Epoch: 49/100, Training Loss: 0.00001, Validation Loss: 0.17067, Training Acc: 1.00000, Validation Acc: 0.97810\n",
      "Epoch: 50/100, Training Loss: 0.00000, Validation Loss: 0.17288, Training Acc: 1.00000, Validation Acc: 0.97821\n",
      "Epoch: 51/100, Training Loss: 0.00000, Validation Loss: 0.17484, Training Acc: 1.00000, Validation Acc: 0.97798\n",
      "Epoch: 52/100, Training Loss: 0.00000, Validation Loss: 0.17729, Training Acc: 1.00000, Validation Acc: 0.97821\n",
      "Epoch: 53/100, Training Loss: 0.00000, Validation Loss: 0.17989, Training Acc: 1.00000, Validation Acc: 0.97762\n",
      "Epoch: 54/100, Training Loss: 0.00000, Validation Loss: 0.18136, Training Acc: 1.00000, Validation Acc: 0.97738\n",
      "Epoch: 55/100, Training Loss: 0.00000, Validation Loss: 0.18460, Training Acc: 1.00000, Validation Acc: 0.97798\n",
      "Epoch: 56/100, Training Loss: 0.00000, Validation Loss: 0.18672, Training Acc: 1.00000, Validation Acc: 0.97786\n",
      "Epoch: 57/100, Training Loss: 0.00000, Validation Loss: 0.18824, Training Acc: 1.00000, Validation Acc: 0.97821\n",
      "Epoch: 58/100, Training Loss: 0.00000, Validation Loss: 0.18990, Training Acc: 1.00000, Validation Acc: 0.97821\n",
      "Epoch: 59/100, Training Loss: 0.00000, Validation Loss: 0.19231, Training Acc: 1.00000, Validation Acc: 0.97762\n",
      "Epoch: 60/100, Training Loss: 0.00000, Validation Loss: 0.19444, Training Acc: 1.00000, Validation Acc: 0.97762\n",
      "Epoch: 61/100, Training Loss: 0.00000, Validation Loss: 0.19610, Training Acc: 1.00000, Validation Acc: 0.97774\n",
      "Epoch: 62/100, Training Loss: 0.00000, Validation Loss: 0.19921, Training Acc: 1.00000, Validation Acc: 0.97786\n",
      "Epoch: 63/100, Training Loss: 0.00000, Validation Loss: 0.20263, Training Acc: 1.00000, Validation Acc: 0.97798\n",
      "Epoch: 64/100, Training Loss: 0.00000, Validation Loss: 0.20407, Training Acc: 1.00000, Validation Acc: 0.97786\n",
      "Epoch: 65/100, Training Loss: 0.00000, Validation Loss: 0.20675, Training Acc: 1.00000, Validation Acc: 0.97798\n",
      "Epoch: 66/100, Training Loss: 0.00000, Validation Loss: 0.20765, Training Acc: 1.00000, Validation Acc: 0.97810\n",
      "Epoch: 67/100, Training Loss: 0.00000, Validation Loss: 0.21046, Training Acc: 1.00000, Validation Acc: 0.97774\n",
      "Epoch: 68/100, Training Loss: 0.00000, Validation Loss: 0.21250, Training Acc: 1.00000, Validation Acc: 0.97833\n",
      "Epoch: 69/100, Training Loss: 0.03458, Validation Loss: 0.22518, Training Acc: 0.99363, Validation Acc: 0.96631\n",
      "Epoch: 70/100, Training Loss: 0.02042, Validation Loss: 0.17056, Training Acc: 0.99375, Validation Acc: 0.97333\n",
      "Epoch: 71/100, Training Loss: 0.00329, Validation Loss: 0.16166, Training Acc: 0.99905, Validation Acc: 0.97536\n",
      "Epoch: 72/100, Training Loss: 0.00113, Validation Loss: 0.17013, Training Acc: 0.99958, Validation Acc: 0.97571\n",
      "Epoch: 73/100, Training Loss: 0.00079, Validation Loss: 0.15960, Training Acc: 0.99979, Validation Acc: 0.97798\n",
      "Epoch: 74/100, Training Loss: 0.00012, Validation Loss: 0.16171, Training Acc: 1.00000, Validation Acc: 0.97774\n",
      "Epoch: 75/100, Training Loss: 0.00007, Validation Loss: 0.16174, Training Acc: 1.00000, Validation Acc: 0.97810\n",
      "Epoch: 76/100, Training Loss: 0.00005, Validation Loss: 0.16296, Training Acc: 1.00000, Validation Acc: 0.97821\n",
      "Epoch: 77/100, Training Loss: 0.00004, Validation Loss: 0.16424, Training Acc: 1.00000, Validation Acc: 0.97786\n",
      "Epoch: 78/100, Training Loss: 0.00003, Validation Loss: 0.16569, Training Acc: 1.00000, Validation Acc: 0.97774\n",
      "Epoch: 79/100, Training Loss: 0.00003, Validation Loss: 0.16690, Training Acc: 1.00000, Validation Acc: 0.97774\n",
      "Epoch: 80/100, Training Loss: 0.00002, Validation Loss: 0.16816, Training Acc: 1.00000, Validation Acc: 0.97762\n",
      "Epoch: 81/100, Training Loss: 0.00002, Validation Loss: 0.16945, Training Acc: 1.00000, Validation Acc: 0.97786\n",
      "Epoch: 82/100, Training Loss: 0.00002, Validation Loss: 0.17069, Training Acc: 1.00000, Validation Acc: 0.97798\n",
      "Epoch: 83/100, Training Loss: 0.00002, Validation Loss: 0.17197, Training Acc: 1.00000, Validation Acc: 0.97774\n",
      "Epoch: 84/100, Training Loss: 0.00001, Validation Loss: 0.17334, Training Acc: 1.00000, Validation Acc: 0.97786\n",
      "Epoch: 85/100, Training Loss: 0.00001, Validation Loss: 0.17466, Training Acc: 1.00000, Validation Acc: 0.97810\n",
      "Epoch: 86/100, Training Loss: 0.00001, Validation Loss: 0.17601, Training Acc: 1.00000, Validation Acc: 0.97821\n",
      "Epoch: 87/100, Training Loss: 0.00001, Validation Loss: 0.17778, Training Acc: 1.00000, Validation Acc: 0.97833\n",
      "Epoch: 88/100, Training Loss: 0.00001, Validation Loss: 0.17904, Training Acc: 1.00000, Validation Acc: 0.97762\n",
      "Epoch: 89/100, Training Loss: 0.00001, Validation Loss: 0.18106, Training Acc: 1.00000, Validation Acc: 0.97786\n",
      "Epoch: 90/100, Training Loss: 0.00001, Validation Loss: 0.18239, Training Acc: 1.00000, Validation Acc: 0.97762\n",
      "Epoch: 91/100, Training Loss: 0.00000, Validation Loss: 0.18383, Training Acc: 1.00000, Validation Acc: 0.97786\n",
      "Epoch: 92/100, Training Loss: 0.00000, Validation Loss: 0.18553, Training Acc: 1.00000, Validation Acc: 0.97786\n",
      "Epoch: 93/100, Training Loss: 0.00000, Validation Loss: 0.18757, Training Acc: 1.00000, Validation Acc: 0.97786\n",
      "Epoch: 94/100, Training Loss: 0.00000, Validation Loss: 0.18911, Training Acc: 1.00000, Validation Acc: 0.97798\n",
      "Epoch: 95/100, Training Loss: 0.00000, Validation Loss: 0.19127, Training Acc: 1.00000, Validation Acc: 0.97774\n",
      "Epoch: 96/100, Training Loss: 0.00000, Validation Loss: 0.19368, Training Acc: 1.00000, Validation Acc: 0.97774\n",
      "Epoch: 97/100, Training Loss: 0.00000, Validation Loss: 0.19504, Training Acc: 1.00000, Validation Acc: 0.97798\n",
      "Epoch: 98/100, Training Loss: 0.00000, Validation Loss: 0.19810, Training Acc: 1.00000, Validation Acc: 0.97810\n",
      "Epoch: 99/100, Training Loss: 0.00000, Validation Loss: 0.20001, Training Acc: 1.00000, Validation Acc: 0.97798\n",
      "Epoch: 100/100, Training Loss: 0.00000, Validation Loss: 0.20296, Training Acc: 1.00000, Validation Acc: 0.97762\n"
     ]
    }
   ],
   "source": [
    "criterion = nn.CrossEntropyLoss()\n",
    "optimizer = optim.Adam(model.parameters(), lr=0.001)\n",
    "\n",
    "true_num_epochs = 0\n",
    "num_epochs = 100\n",
    "training_loss = []\n",
    "validation_loss = []\n",
    "training_acc = []\n",
    "validation_acc = []\n",
    "\n",
    "for i in range(num_epochs):\n",
    "    model.train()\n",
    "    train_loss = 0.0\n",
    "    train_acc = 0.0\n",
    "    for inputs, targets in train_loader:\n",
    "        inputs, targets = inputs.to(device), targets.to(device)\n",
    "        optimizer.zero_grad()\n",
    "        outputs = model(inputs)\n",
    "        loss = criterion(outputs, targets)\n",
    "\n",
    "        probabilities = torch.softmax(outputs, dim=1)\n",
    "        predicted_classes = torch.argmax(probabilities, dim=1)\n",
    "        true_targets = torch.argmax(targets, dim=1)\n",
    "        acc = accuracy_score(true_targets.detach().cpu().numpy(), predicted_classes.detach().cpu().numpy())\n",
    "        train_acc += acc\n",
    "        loss.backward()\n",
    "        optimizer.step()\n",
    "        train_loss += loss.item() * inputs.size(0)\n",
    "\n",
    "    train_loss /= len(train_loader.dataset)\n",
    "    train_acc /= len(train_loader)\n",
    "\n",
    "    model.eval()\n",
    "    val_loss = 0.0\n",
    "    val_acc = 0.0\n",
    "    with torch.no_grad():\n",
    "        for inputs, targets in val_loader:\n",
    "            inputs, targets = inputs.to(device), targets.to(device)\n",
    "            outputs = model(inputs)\n",
    "            loss = criterion(outputs, targets)\n",
    "            val_loss += loss.item() * inputs.size(0)\n",
    "\n",
    "            probabilities = torch.softmax(outputs, dim=1)\n",
    "            predicted_classes = torch.argmax(probabilities, dim=1)\n",
    "            true_targets = torch.argmax(targets, dim=1)\n",
    "            acc = accuracy_score(true_targets.detach().cpu().numpy(), predicted_classes.detach().cpu().numpy())\n",
    "            val_acc += acc\n",
    "\n",
    "    val_loss /= len(val_loader.dataset)\n",
    "    val_acc /= len(val_loader)\n",
    "    validation_loss.append(val_loss)\n",
    "    training_loss.append(train_loss)\n",
    "    training_acc.append(train_acc)\n",
    "    validation_acc.append(val_acc)\n",
    "    true_num_epochs += 1\n",
    "\n",
    "    print(f\"Epoch: {i + 1}/{num_epochs}, Training Loss: {train_loss:.5f}, Validation Loss: {val_loss:.5f}, Training Acc: {train_acc:.5f}, Validation Acc: {val_acc:.5f}\")\n",
    "\n",
    "torch.save(model.state_dict(), 'ANN.pth')\n"
   ]
  },
  {
   "cell_type": "code",
   "execution_count": 6,
   "id": "d0dd4ad8",
   "metadata": {},
   "outputs": [
    {
     "data": {
      "image/png": "[encoded data removed]",
      "text/plain": [
       "<Figure size 1000x500 with 1 Axes>"
      ]
     },
     "metadata": {},
     "output_type": "display_data"
    }
   ],
   "source": [
    "epochs = range(1, int(true_num_epochs) + 1)\n",
    "\n",
    "plt.figure(figsize=(10, 5))\n",
    "\n",
    "plt.plot(epochs, np.array(training_acc)*100, 'b-o', label='Training Accuracy')\n",
    "plt.plot(epochs, np.array(validation_acc)*100, 'r-o', label='Validation Accuracy')\n",
    "plt.title('Training and Validation Accuracy (in percentage)')\n",
    "plt.xlabel('Epochs')\n",
    "plt.ylabel('Accuracy (%)')\n",
    "plt.legend()\n",
    "\n",
    "plt.tight_layout()\n",
    "plt.show()"
   ]
  },
  {
   "cell_type": "code",
   "execution_count": 7,
   "id": "79182f3a",
   "metadata": {
    "execution": {
     "iopub.execute_input": "2024-08-01T09:34:48.451923Z",
     "iopub.status.busy": "2024-08-01T09:34:48.451553Z",
     "iopub.status.idle": "2024-08-01T09:34:48.769174Z",
     "shell.execute_reply": "2024-08-01T09:34:48.768226Z"
    },
    "papermill": {
     "duration": 0.340102,
     "end_time": "2024-08-01T09:34:48.771443",
     "exception": false,
     "start_time": "2024-08-01T09:34:48.431341",
     "status": "completed"
    },
    "tags": []
   },
   "outputs": [
    {
     "data": {
      "image/png": "[encoded data removed]",
      "text/plain": [
       "<Figure size 1000x500 with 1 Axes>"
      ]
     },
     "metadata": {},
     "output_type": "display_data"
    }
   ],
   "source": [
    "epochs = range(1, int(true_num_epochs) + 1)\n",
    "\n",
    "plt.figure(figsize=(10, 5))\n",
    "\n",
    "plt.plot(epochs, training_loss, 'b-o', label='Training Loss')\n",
    "plt.plot(epochs, validation_loss, 'r-o', label='Validation Loss')\n",
    "plt.title('Training and Validation Loss')\n",
    "plt.xlabel('Epochs')\n",
    "plt.ylabel('Loss')\n",
    "plt.legend()\n",
    "\n",
    "plt.tight_layout()\n",
    "plt.show()"
   ]
  }
 ],
 "metadata": {
  "kaggle": {
   "accelerator": "nvidiaTeslaT4",
   "dataSources": [
    {
     "databundleVersionId": 861823,
     "sourceId": 3004,
     "sourceType": "competition"
    }
   ],
   "dockerImageVersionId": 30805,
   "isGpuEnabled": true,
   "isInternetEnabled": true,
   "language": "python",
   "sourceType": "notebook"
  },
  "kernelspec": {
   "display_name": "emulator",
   "language": "python",
   "name": "python3"
  },
  "language_info": {
   "codemirror_mode": {
    "name": "ipython",
    "version": 3
   },
   "file_extension": ".py",
   "mimetype": "text/x-python",
   "name": "python",
   "nbconvert_exporter": "python",
   "pygments_lexer": "ipython3",
   "version": "3.12.5"
  },
  "papermill": {
   "default_parameters": {},
   "duration": 350.778768,
   "end_time": "2024-08-01T09:39:01.258491",
   "environment_variables": {},
   "exception": null,
   "input_path": "__notebook__.ipynb",
   "output_path": "__notebook__.ipynb",
   "parameters": {},
   "start_time": "2024-08-01T09:33:10.479723",
   "version": "2.3.4"
  }
 },
 "nbformat": 4,
 "nbformat_minor": 5
}
