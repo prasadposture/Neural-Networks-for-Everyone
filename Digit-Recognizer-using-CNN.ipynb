{
 "cells": [
  {
   "cell_type": "markdown",
   "id": "e9edbd8c",
   "metadata": {
    "papermill": {
     "duration": 0.01931,
     "end_time": "2024-08-01T09:33:20.220962",
     "exception": false,
     "start_time": "2024-08-01T09:33:20.201652",
     "status": "completed"
    },
    "tags": []
   },
   "source": [
    "<div style=\"color:#00ADB5;\n",
    "               display:fill;\n",
    "               border-radius:5px;\n",
    "               background-color:#393E46;\n",
    "               font-size: 30px;\n",
    "               font-family:sans-serif;\n",
    "               letter-spacing:0.5px\">\n",
    "            <p style=\"padding: 10px;\n",
    "                  color:white;\">\n",
    "                <b> Digit Recognizer: CNN</b>\n",
    "            </p>\n",
    "    </div>"
   ]
  },
  {
   "cell_type": "markdown",
   "id": "449f6f29",
   "metadata": {
    "execution": {
     "iopub.execute_input": "2024-08-01T04:17:23.086248Z",
     "iopub.status.busy": "2024-08-01T04:17:23.085660Z",
     "iopub.status.idle": "2024-08-01T04:17:23.112316Z",
     "shell.execute_reply": "2024-08-01T04:17:23.110842Z",
     "shell.execute_reply.started": "2024-08-01T04:17:23.086128Z"
    },
    "papermill": {
     "duration": 0.019557,
     "end_time": "2024-08-01T09:34:49.063241",
     "exception": false,
     "start_time": "2024-08-01T09:34:49.043684",
     "status": "completed"
    },
    "tags": []
   },
   "source": [
    "## Importing Dependencies"
   ]
  },
  {
   "cell_type": "code",
   "execution_count": 1,
   "id": "e68fb383",
   "metadata": {
    "execution": {
     "iopub.execute_input": "2024-08-01T09:34:49.103977Z",
     "iopub.status.busy": "2024-08-01T09:34:49.103563Z",
     "iopub.status.idle": "2024-08-01T09:34:49.109658Z",
     "shell.execute_reply": "2024-08-01T09:34:49.108723Z"
    },
    "papermill": {
     "duration": 0.028907,
     "end_time": "2024-08-01T09:34:49.111756",
     "exception": false,
     "start_time": "2024-08-01T09:34:49.082849",
     "status": "completed"
    },
    "tags": []
   },
   "outputs": [],
   "source": [
    "import numpy as np\n",
    "import matplotlib.pyplot as plt\n",
    "import pandas as pd\n",
    "\n",
    "from sklearn.preprocessing import OneHotEncoder\n",
    "from sklearn.metrics import r2_score, accuracy_score\n",
    "\n",
    "import torch\n",
    "import torch.nn as nn\n",
    "import torch.optim as optim\n",
    "from torch.utils.data import Dataset, DataLoader, TensorDataset, random_split"
   ]
  },
  {
   "cell_type": "markdown",
   "id": "031ab26b",
   "metadata": {
    "execution": {
     "iopub.execute_input": "2024-08-01T04:18:48.127136Z",
     "iopub.status.busy": "2024-08-01T04:18:48.126663Z",
     "iopub.status.idle": "2024-08-01T04:18:48.134559Z",
     "shell.execute_reply": "2024-08-01T04:18:48.132906Z",
     "shell.execute_reply.started": "2024-08-01T04:18:48.127099Z"
    },
    "papermill": {
     "duration": 0.021399,
     "end_time": "2024-08-01T09:34:49.154071",
     "exception": false,
     "start_time": "2024-08-01T09:34:49.132672",
     "status": "completed"
    },
    "tags": []
   },
   "source": [
    "## Data Preprocessing"
   ]
  },
  {
   "cell_type": "code",
   "execution_count": 2,
   "id": "71a59efa",
   "metadata": {
    "execution": {
     "iopub.execute_input": "2024-08-01T09:34:49.196709Z",
     "iopub.status.busy": "2024-08-01T09:34:49.196376Z",
     "iopub.status.idle": "2024-08-01T09:34:53.655541Z",
     "shell.execute_reply": "2024-08-01T09:34:53.654420Z"
    },
    "papermill": {
     "duration": 4.483296,
     "end_time": "2024-08-01T09:34:53.658084",
     "exception": false,
     "start_time": "2024-08-01T09:34:49.174788",
     "status": "completed"
    },
    "tags": []
   },
   "outputs": [],
   "source": [
    "train = pd.read_csv('train.csv')\n",
    "test = pd.read_csv('test.csv')\n",
    "\n",
    "encoder = OneHotEncoder(sparse_output=False, handle_unknown='ignore')\n",
    "encoder.fit(train[['label']])\n",
    "encoded_cols = list(encoder.get_feature_names_out(['label']))\n",
    "train[encoded_cols] = encoder.transform(train[['label']])\n",
    "\n",
    "train.drop(labels=['label'], inplace=True, axis=1)\n",
    "\n",
    "X_train = train.drop(labels=encoded_cols, axis=1).values\n",
    "Y_train = train[encoded_cols].values\n",
    "X_test = test.values\n",
    "\n",
    "X_train = X_train/255\n",
    "X_train = np.expand_dims(X_train.reshape(-1,28,28), axis=1)\n",
    "X_test  = X_test/255\n",
    "X_test = np.expand_dims(X_test.reshape(-1,28,28), axis=1)"
   ]
  },
  {
   "cell_type": "markdown",
   "id": "2999d515",
   "metadata": {
    "papermill": {
     "duration": 0.019235,
     "end_time": "2024-08-01T09:34:53.697456",
     "exception": false,
     "start_time": "2024-08-01T09:34:53.678221",
     "status": "completed"
    },
    "tags": []
   },
   "source": [
    "## Loading Data"
   ]
  },
  {
   "cell_type": "code",
   "execution_count": 3,
   "id": "bcb94813",
   "metadata": {
    "execution": {
     "iopub.execute_input": "2024-08-01T09:34:53.737926Z",
     "iopub.status.busy": "2024-08-01T09:34:53.737298Z",
     "iopub.status.idle": "2024-08-01T09:34:53.810901Z",
     "shell.execute_reply": "2024-08-01T09:34:53.809809Z"
    },
    "papermill": {
     "duration": 0.096716,
     "end_time": "2024-08-01T09:34:53.813410",
     "exception": false,
     "start_time": "2024-08-01T09:34:53.716694",
     "status": "completed"
    },
    "tags": []
   },
   "outputs": [],
   "source": [
    "input_tensor = torch.tensor(X_train, dtype=torch.float32)\n",
    "output_tensor = torch.tensor(Y_train, dtype=torch.float32)\n",
    "dataset = TensorDataset(input_tensor, output_tensor)\n",
    "train_size = round(len(dataset)*0.8)\n",
    "val_size = len(dataset)-train_size\n",
    "train_dataset, val_dataset = random_split(dataset, [train_size, val_size])\n",
    "batch_size = 100 # can change later\n",
    "train_loader = DataLoader(train_dataset,batch_size = batch_size, shuffle=True, num_workers=4 ) # for number of cores at work\n",
    "val_loader  = DataLoader(val_dataset, batch_size = batch_size)\n",
    "# Since the iteration over the batches is done for optimizing weights more efficiently"
   ]
  },
  {
   "cell_type": "markdown",
   "id": "4b76b9f8",
   "metadata": {
    "papermill": {
     "duration": 0.020335,
     "end_time": "2024-08-01T09:34:53.853382",
     "exception": false,
     "start_time": "2024-08-01T09:34:53.833047",
     "status": "completed"
    },
    "tags": []
   },
   "source": [
    "## Architecture"
   ]
  },
  {
   "cell_type": "code",
   "execution_count": 4,
   "id": "9e3c476b",
   "metadata": {
    "execution": {
     "iopub.execute_input": "2024-08-01T09:34:53.894715Z",
     "iopub.status.busy": "2024-08-01T09:34:53.894084Z",
     "iopub.status.idle": "2024-08-01T09:34:53.909281Z",
     "shell.execute_reply": "2024-08-01T09:34:53.908465Z"
    },
    "papermill": {
     "duration": 0.038382,
     "end_time": "2024-08-01T09:34:53.911260",
     "exception": false,
     "start_time": "2024-08-01T09:34:53.872878",
     "status": "completed"
    },
    "tags": []
   },
   "outputs": [],
   "source": [
    "class CNN(nn.Module):\n",
    "    def __init__(self):\n",
    "        super(CNN, self).__init__()\n",
    "        self.c1 = nn.Conv2d(1, 16, kernel_size = (3,3), stride=3, padding = 1)\n",
    "        self.b1 = nn.BatchNorm2d(16)\n",
    "        self.d1 = nn.Dropout(0.3)\n",
    "        \n",
    "        self.c2 = nn.Conv2d(16, 32, kernel_size = (3,3), stride=3, padding = 1)\n",
    "        self.b2 = nn.BatchNorm2d(32)\n",
    "        self.m1 = nn.MaxPool2d(kernel_size=(2,2), stride=2)\n",
    "        \n",
    "        self.f = nn.Flatten()\n",
    "        \n",
    "        self.l1 = nn.Linear(128, 64)\n",
    "        self.d2 = nn.Dropout(0.5)\n",
    "        self.l2 = nn.Linear(64, 10)\n",
    "        \n",
    "        \n",
    "    def forward(self, x):\n",
    "        x = torch.relu(self.c1(x))\n",
    "        x = self.b1(x)\n",
    "        x = self.d1(x)\n",
    "        x = torch.relu(self.c2(x))\n",
    "        x = self.b2(x)\n",
    "        x = self.m1(x)\n",
    "        \n",
    "        x = self.f(x)\n",
    "        \n",
    "        x = torch.relu(self.l1(x))\n",
    "        x = self.d2(x)\n",
    "        x = self.l2(x)\n",
    "        return x\n",
    "\n",
    "device = torch.device('cuda' if torch.cuda.is_available() else 'cpu')\n",
    "model = CNN().to(device)"
   ]
  },
  {
   "cell_type": "markdown",
   "id": "a02aec8d",
   "metadata": {
    "papermill": {
     "duration": 0.019229,
     "end_time": "2024-08-01T09:34:53.950328",
     "exception": false,
     "start_time": "2024-08-01T09:34:53.931099",
     "status": "completed"
    },
    "tags": []
   },
   "source": [
    "## Training and Evaluation"
   ]
  },
  {
   "cell_type": "code",
   "execution_count": null,
   "id": "c8a14ecb",
   "metadata": {
    "execution": {
     "iopub.execute_input": "2024-08-01T09:34:53.990731Z",
     "iopub.status.busy": "2024-08-01T09:34:53.990223Z",
     "iopub.status.idle": "2024-08-01T09:38:58.331076Z",
     "shell.execute_reply": "2024-08-01T09:38:58.329683Z"
    },
    "papermill": {
     "duration": 244.363889,
     "end_time": "2024-08-01T09:38:58.333511",
     "exception": false,
     "start_time": "2024-08-01T09:34:53.969622",
     "status": "completed"
    },
    "tags": []
   },
   "outputs": [
    {
     "name": "stdout",
     "output_type": "stream",
     "text": [
      "Epoch: 1/100, Training Loss: 0.84955, Validation Loss: 0.23832, Training Acc: 0.72688, Validation Acc: 0.93238\n",
      "Epoch: 2/100, Training Loss: 0.34323, Validation Loss: 0.15624, Training Acc: 0.89717, Validation Acc: 0.95417\n",
      "Epoch: 3/100, Training Loss: 0.27186, Validation Loss: 0.12801, Training Acc: 0.91878, Validation Acc: 0.96107\n",
      "Epoch: 4/100, Training Loss: 0.23605, Validation Loss: 0.11553, Training Acc: 0.93006, Validation Acc: 0.96500\n",
      "Epoch: 5/100, Training Loss: 0.20543, Validation Loss: 0.10762, Training Acc: 0.93720, Validation Acc: 0.96786\n",
      "Epoch: 6/100, Training Loss: 0.19525, Validation Loss: 0.09705, Training Acc: 0.94161, Validation Acc: 0.97036\n",
      "Epoch: 7/100, Training Loss: 0.18313, Validation Loss: 0.09091, Training Acc: 0.94470, Validation Acc: 0.97167\n",
      "Epoch: 8/100, Training Loss: 0.17143, Validation Loss: 0.09006, Training Acc: 0.94815, Validation Acc: 0.97262\n",
      "Epoch: 9/100, Training Loss: 0.16535, Validation Loss: 0.08521, Training Acc: 0.94872, Validation Acc: 0.97452\n",
      "Epoch: 10/100, Training Loss: 0.16061, Validation Loss: 0.08572, Training Acc: 0.95137, Validation Acc: 0.97310\n",
      "Epoch: 11/100, Training Loss: 0.15512, Validation Loss: 0.08496, Training Acc: 0.95286, Validation Acc: 0.97524\n",
      "Epoch: 12/100, Training Loss: 0.14936, Validation Loss: 0.08197, Training Acc: 0.95369, Validation Acc: 0.97488\n",
      "Epoch: 13/100, Training Loss: 0.14761, Validation Loss: 0.07981, Training Acc: 0.95595, Validation Acc: 0.97452\n",
      "Epoch: 14/100, Training Loss: 0.14278, Validation Loss: 0.07993, Training Acc: 0.95676, Validation Acc: 0.97548\n",
      "Epoch: 15/100, Training Loss: 0.13890, Validation Loss: 0.07819, Training Acc: 0.95702, Validation Acc: 0.97619\n",
      "Epoch: 16/100, Training Loss: 0.13500, Validation Loss: 0.07679, Training Acc: 0.95839, Validation Acc: 0.97702\n",
      "Epoch: 17/100, Training Loss: 0.13379, Validation Loss: 0.07591, Training Acc: 0.95824, Validation Acc: 0.97667\n",
      "Epoch: 18/100, Training Loss: 0.13015, Validation Loss: 0.07316, Training Acc: 0.95914, Validation Acc: 0.97810\n",
      "Epoch: 19/100, Training Loss: 0.12815, Validation Loss: 0.07568, Training Acc: 0.95958, Validation Acc: 0.97726\n",
      "Epoch: 20/100, Training Loss: 0.12397, Validation Loss: 0.07312, Training Acc: 0.96045, Validation Acc: 0.97833\n",
      "Epoch: 21/100, Training Loss: 0.12774, Validation Loss: 0.07516, Training Acc: 0.96098, Validation Acc: 0.97786\n",
      "Epoch: 22/100, Training Loss: 0.12557, Validation Loss: 0.07239, Training Acc: 0.96086, Validation Acc: 0.97750\n",
      "Epoch: 23/100, Training Loss: 0.12373, Validation Loss: 0.07256, Training Acc: 0.96208, Validation Acc: 0.97821\n",
      "Epoch: 24/100, Training Loss: 0.11856, Validation Loss: 0.07028, Training Acc: 0.96256, Validation Acc: 0.97929\n",
      "Epoch: 25/100, Training Loss: 0.12097, Validation Loss: 0.07071, Training Acc: 0.96336, Validation Acc: 0.97845\n",
      "Epoch: 26/100, Training Loss: 0.11873, Validation Loss: 0.07374, Training Acc: 0.96193, Validation Acc: 0.97762\n",
      "Epoch: 27/100, Training Loss: 0.12147, Validation Loss: 0.07326, Training Acc: 0.96223, Validation Acc: 0.97857\n",
      "Epoch: 28/100, Training Loss: 0.11587, Validation Loss: 0.06964, Training Acc: 0.96324, Validation Acc: 0.98000\n",
      "Epoch: 29/100, Training Loss: 0.11933, Validation Loss: 0.07106, Training Acc: 0.96193, Validation Acc: 0.98012\n",
      "Epoch: 30/100, Training Loss: 0.11407, Validation Loss: 0.07028, Training Acc: 0.96426, Validation Acc: 0.97917\n",
      "Epoch: 31/100, Training Loss: 0.11374, Validation Loss: 0.07127, Training Acc: 0.96449, Validation Acc: 0.97881\n",
      "Epoch: 32/100, Training Loss: 0.11591, Validation Loss: 0.07149, Training Acc: 0.96286, Validation Acc: 0.98012\n",
      "Epoch: 33/100, Training Loss: 0.11343, Validation Loss: 0.06933, Training Acc: 0.96438, Validation Acc: 0.97917\n",
      "Epoch: 34/100, Training Loss: 0.11071, Validation Loss: 0.07186, Training Acc: 0.96440, Validation Acc: 0.97952\n",
      "Epoch: 35/100, Training Loss: 0.11218, Validation Loss: 0.07182, Training Acc: 0.96545, Validation Acc: 0.98060\n",
      "Epoch: 36/100, Training Loss: 0.11100, Validation Loss: 0.07212, Training Acc: 0.96387, Validation Acc: 0.98048\n",
      "Epoch: 37/100, Training Loss: 0.11076, Validation Loss: 0.07213, Training Acc: 0.96467, Validation Acc: 0.98012\n",
      "Epoch: 38/100, Training Loss: 0.11035, Validation Loss: 0.07005, Training Acc: 0.96435, Validation Acc: 0.98036\n",
      "Epoch: 39/100, Training Loss: 0.10453, Validation Loss: 0.07096, Training Acc: 0.96583, Validation Acc: 0.97964\n",
      "Epoch: 40/100, Training Loss: 0.11044, Validation Loss: 0.06913, Training Acc: 0.96396, Validation Acc: 0.98036\n",
      "Epoch: 41/100, Training Loss: 0.10373, Validation Loss: 0.07081, Training Acc: 0.96750, Validation Acc: 0.97952\n",
      "Epoch: 42/100, Training Loss: 0.10460, Validation Loss: 0.07115, Training Acc: 0.96560, Validation Acc: 0.97964\n",
      "Epoch: 43/100, Training Loss: 0.10248, Validation Loss: 0.07637, Training Acc: 0.96738, Validation Acc: 0.98000\n",
      "Epoch: 44/100, Training Loss: 0.10506, Validation Loss: 0.07228, Training Acc: 0.96685, Validation Acc: 0.98060\n",
      "Epoch: 45/100, Training Loss: 0.10248, Validation Loss: 0.06940, Training Acc: 0.96702, Validation Acc: 0.98036\n",
      "Epoch: 46/100, Training Loss: 0.10170, Validation Loss: 0.07143, Training Acc: 0.96705, Validation Acc: 0.98083\n",
      "Epoch: 47/100, Training Loss: 0.10633, Validation Loss: 0.07181, Training Acc: 0.96780, Validation Acc: 0.98071\n",
      "Epoch: 48/100, Training Loss: 0.10368, Validation Loss: 0.07160, Training Acc: 0.96655, Validation Acc: 0.97869\n",
      "Epoch: 49/100, Training Loss: 0.10094, Validation Loss: 0.07411, Training Acc: 0.96792, Validation Acc: 0.98071\n",
      "Epoch: 50/100, Training Loss: 0.09986, Validation Loss: 0.06878, Training Acc: 0.96821, Validation Acc: 0.98190\n",
      "Epoch: 51/100, Training Loss: 0.10296, Validation Loss: 0.06822, Training Acc: 0.96664, Validation Acc: 0.98119\n",
      "Epoch: 52/100, Training Loss: 0.10356, Validation Loss: 0.07048, Training Acc: 0.96783, Validation Acc: 0.98107\n",
      "Epoch: 53/100, Training Loss: 0.10282, Validation Loss: 0.07064, Training Acc: 0.96679, Validation Acc: 0.98060\n",
      "Epoch: 54/100, Training Loss: 0.10499, Validation Loss: 0.07195, Training Acc: 0.96613, Validation Acc: 0.97988\n",
      "Epoch: 55/100, Training Loss: 0.09955, Validation Loss: 0.07406, Training Acc: 0.96917, Validation Acc: 0.98048\n",
      "Epoch: 56/100, Training Loss: 0.10179, Validation Loss: 0.07480, Training Acc: 0.96833, Validation Acc: 0.97893\n",
      "Epoch: 57/100, Training Loss: 0.09747, Validation Loss: 0.07235, Training Acc: 0.96839, Validation Acc: 0.97976\n",
      "Epoch: 58/100, Training Loss: 0.10126, Validation Loss: 0.07067, Training Acc: 0.96821, Validation Acc: 0.98024\n",
      "Epoch: 59/100, Training Loss: 0.09837, Validation Loss: 0.07237, Training Acc: 0.96890, Validation Acc: 0.98036\n",
      "Epoch: 60/100, Training Loss: 0.09766, Validation Loss: 0.07229, Training Acc: 0.96780, Validation Acc: 0.98036\n",
      "Epoch: 61/100, Training Loss: 0.09663, Validation Loss: 0.07311, Training Acc: 0.96911, Validation Acc: 0.98048\n",
      "Epoch: 62/100, Training Loss: 0.09830, Validation Loss: 0.07087, Training Acc: 0.96890, Validation Acc: 0.97988\n",
      "Epoch: 63/100, Training Loss: 0.09992, Validation Loss: 0.07221, Training Acc: 0.96780, Validation Acc: 0.98071\n",
      "Epoch: 64/100, Training Loss: 0.09642, Validation Loss: 0.07098, Training Acc: 0.96988, Validation Acc: 0.98119\n",
      "Epoch: 65/100, Training Loss: 0.09646, Validation Loss: 0.07001, Training Acc: 0.96920, Validation Acc: 0.97964\n",
      "Epoch: 66/100, Training Loss: 0.09593, Validation Loss: 0.06960, Training Acc: 0.96884, Validation Acc: 0.98119\n",
      "Epoch: 67/100, Training Loss: 0.09827, Validation Loss: 0.07031, Training Acc: 0.96875, Validation Acc: 0.98048\n",
      "Epoch: 68/100, Training Loss: 0.10001, Validation Loss: 0.07288, Training Acc: 0.96887, Validation Acc: 0.98083\n",
      "Epoch: 69/100, Training Loss: 0.09558, Validation Loss: 0.06813, Training Acc: 0.96970, Validation Acc: 0.98202\n",
      "Epoch: 70/100, Training Loss: 0.09546, Validation Loss: 0.07191, Training Acc: 0.96920, Validation Acc: 0.98095\n",
      "Epoch: 71/100, Training Loss: 0.09353, Validation Loss: 0.07125, Training Acc: 0.97021, Validation Acc: 0.98131\n",
      "Epoch: 72/100, Training Loss: 0.09434, Validation Loss: 0.07027, Training Acc: 0.96943, Validation Acc: 0.98131\n",
      "Epoch: 73/100, Training Loss: 0.09712, Validation Loss: 0.07104, Training Acc: 0.96964, Validation Acc: 0.98179\n",
      "Epoch: 74/100, Training Loss: 0.09681, Validation Loss: 0.06756, Training Acc: 0.96860, Validation Acc: 0.98143\n",
      "Epoch: 75/100, Training Loss: 0.09617, Validation Loss: 0.06870, Training Acc: 0.96854, Validation Acc: 0.98226\n",
      "Epoch: 76/100, Training Loss: 0.09534, Validation Loss: 0.07008, Training Acc: 0.96917, Validation Acc: 0.98060\n",
      "Epoch: 77/100, Training Loss: 0.09539, Validation Loss: 0.07227, Training Acc: 0.96908, Validation Acc: 0.97917\n",
      "Epoch: 78/100, Training Loss: 0.09252, Validation Loss: 0.07409, Training Acc: 0.96988, Validation Acc: 0.97952\n",
      "Epoch: 79/100, Training Loss: 0.09061, Validation Loss: 0.06973, Training Acc: 0.97101, Validation Acc: 0.98190\n",
      "Epoch: 80/100, Training Loss: 0.09070, Validation Loss: 0.07107, Training Acc: 0.97033, Validation Acc: 0.98155\n",
      "Epoch: 81/100, Training Loss: 0.09739, Validation Loss: 0.07006, Training Acc: 0.96952, Validation Acc: 0.98107\n",
      "Epoch: 82/100, Training Loss: 0.09193, Validation Loss: 0.07022, Training Acc: 0.97083, Validation Acc: 0.98155\n",
      "Epoch: 83/100, Training Loss: 0.09276, Validation Loss: 0.06970, Training Acc: 0.97086, Validation Acc: 0.98131\n",
      "Epoch: 84/100, Training Loss: 0.09269, Validation Loss: 0.07089, Training Acc: 0.97036, Validation Acc: 0.97952\n",
      "Epoch: 85/100, Training Loss: 0.09516, Validation Loss: 0.06732, Training Acc: 0.96955, Validation Acc: 0.98095\n",
      "Epoch: 86/100, Training Loss: 0.09217, Validation Loss: 0.06676, Training Acc: 0.96914, Validation Acc: 0.98202\n",
      "Epoch: 87/100, Training Loss: 0.09002, Validation Loss: 0.06909, Training Acc: 0.97021, Validation Acc: 0.98060\n",
      "Epoch: 88/100, Training Loss: 0.09458, Validation Loss: 0.07070, Training Acc: 0.96949, Validation Acc: 0.98071\n",
      "Epoch: 89/100, Training Loss: 0.09199, Validation Loss: 0.07240, Training Acc: 0.97036, Validation Acc: 0.97964\n",
      "Epoch: 90/100, Training Loss: 0.09192, Validation Loss: 0.07244, Training Acc: 0.97042, Validation Acc: 0.98012\n",
      "Epoch: 91/100, Training Loss: 0.09197, Validation Loss: 0.06756, Training Acc: 0.97095, Validation Acc: 0.98190\n",
      "Epoch: 92/100, Training Loss: 0.09190, Validation Loss: 0.06977, Training Acc: 0.97051, Validation Acc: 0.98167\n",
      "Epoch: 93/100, Training Loss: 0.09015, Validation Loss: 0.07354, Training Acc: 0.97077, Validation Acc: 0.98167\n",
      "Epoch: 94/100, Training Loss: 0.09235, Validation Loss: 0.06860, Training Acc: 0.97125, Validation Acc: 0.98202\n",
      "Epoch: 95/100, Training Loss: 0.09275, Validation Loss: 0.06819, Training Acc: 0.97104, Validation Acc: 0.98167\n",
      "Epoch: 96/100, Training Loss: 0.08652, Validation Loss: 0.07005, Training Acc: 0.97146, Validation Acc: 0.98155\n",
      "Epoch: 97/100, Training Loss: 0.08798, Validation Loss: 0.07099, Training Acc: 0.97083, Validation Acc: 0.98179\n",
      "Epoch: 98/100, Training Loss: 0.08885, Validation Loss: 0.06825, Training Acc: 0.97161, Validation Acc: 0.98238\n",
      "Epoch: 99/100, Training Loss: 0.09218, Validation Loss: 0.06935, Training Acc: 0.97161, Validation Acc: 0.98214\n",
      "Epoch: 100/100, Training Loss: 0.09388, Validation Loss: 0.06880, Training Acc: 0.97009, Validation Acc: 0.98274\n"
     ]
    }
   ],
   "source": [
    "criterion = nn.CrossEntropyLoss()\n",
    "optimizer = optim.Adam(model.parameters(), lr=0.001)\n",
    "\n",
    "true_num_epochs = 0\n",
    "num_epochs = 100\n",
    "training_loss = []\n",
    "validation_loss = []\n",
    "training_acc = []\n",
    "validation_acc = []\n",
    "\n",
    "for i in range(num_epochs):\n",
    "    model.train()\n",
    "    train_loss = 0.0\n",
    "    train_acc = 0.0\n",
    "    for inputs, targets in train_loader:\n",
    "        inputs, targets = inputs.to(device), targets.to(device)\n",
    "        optimizer.zero_grad()\n",
    "        outputs = model(inputs)\n",
    "        loss = criterion(outputs, targets)\n",
    "\n",
    "        probabilities = torch.softmax(outputs, dim=1)\n",
    "        predicted_classes = torch.argmax(probabilities, dim=1)\n",
    "        true_targets = torch.argmax(targets, dim=1)\n",
    "        acc = accuracy_score(true_targets.detach().cpu().numpy(), predicted_classes.detach().cpu().numpy())\n",
    "        train_acc += acc\n",
    "        loss.backward()\n",
    "        optimizer.step()\n",
    "        train_loss += loss.item() * inputs.size(0)\n",
    "\n",
    "    train_loss /= len(train_loader.dataset)\n",
    "    train_acc /= len(train_loader)\n",
    "\n",
    "    model.eval()\n",
    "    val_loss = 0.0\n",
    "    val_acc = 0.0\n",
    "    with torch.no_grad():\n",
    "        for inputs, targets in val_loader:\n",
    "            inputs, targets = inputs.to(device), targets.to(device)\n",
    "            outputs = model(inputs)\n",
    "            loss = criterion(outputs, targets)\n",
    "            val_loss += loss.item() * inputs.size(0)\n",
    "\n",
    "            probabilities = torch.softmax(outputs, dim=1)\n",
    "            predicted_classes = torch.argmax(probabilities, dim=1)\n",
    "            true_targets = torch.argmax(targets, dim=1)\n",
    "            acc = accuracy_score(true_targets.detach().cpu().numpy(), predicted_classes.detach().cpu().numpy())\n",
    "            val_acc += acc\n",
    "\n",
    "    val_loss /= len(val_loader.dataset)\n",
    "    val_acc /= len(val_loader)\n",
    "    validation_loss.append(val_loss)\n",
    "    training_loss.append(train_loss)\n",
    "    training_acc.append(train_acc)\n",
    "    validation_acc.append(val_acc)\n",
    "    true_num_epochs += 1\n",
    "\n",
    "    print(f\"Epoch: {i + 1}/{num_epochs}, Training Loss: {train_loss:.5f}, Validation Loss: {val_loss:.5f}, Training Acc: {train_acc:.5f}, Validation Acc: {val_acc:.5f}\")\n",
    "\n",
    "torch.save(model.state_dict(), 'CNN.pth')\n"
   ]
  },
  {
   "cell_type": "code",
   "execution_count": 6,
   "id": "857ad967",
   "metadata": {},
   "outputs": [
    {
     "data": {
      "image/png": "[encoded data removed]",
      "text/plain": [
       "<Figure size 1000x500 with 1 Axes>"
      ]
     },
     "metadata": {},
     "output_type": "display_data"
    }
   ],
   "source": [
    "epochs = range(1, int(true_num_epochs) + 1)\n",
    "\n",
    "plt.figure(figsize=(10, 5))\n",
    "\n",
    "plt.plot(epochs, np.array(training_acc)*100, 'b-o', label='Training Accuracy')\n",
    "plt.plot(epochs, np.array(validation_acc)*100, 'r-o', label='Validation Accuracy')\n",
    "plt.title('Training and Validation Accuracy (in percentage)')\n",
    "plt.xlabel('Epochs')\n",
    "plt.ylabel('Accuracy (%)')\n",
    "plt.legend()\n",
    "\n",
    "plt.tight_layout()\n",
    "plt.show()"
   ]
  },
  {
   "cell_type": "code",
   "execution_count": 7,
   "id": "cb8d6eaf",
   "metadata": {
    "execution": {
     "iopub.execute_input": "2024-08-01T09:38:58.376917Z",
     "iopub.status.busy": "2024-08-01T09:38:58.376272Z",
     "iopub.status.idle": "2024-08-01T09:38:58.653414Z",
     "shell.execute_reply": "2024-08-01T09:38:58.652499Z"
    },
    "papermill": {
     "duration": 0.300773,
     "end_time": "2024-08-01T09:38:58.655598",
     "exception": false,
     "start_time": "2024-08-01T09:38:58.354825",
     "status": "completed"
    },
    "tags": []
   },
   "outputs": [
    {
     "data": {
      "image/png": "[encoded data removed]",
      "text/plain": [
       "<Figure size 1000x500 with 1 Axes>"
      ]
     },
     "metadata": {},
     "output_type": "display_data"
    }
   ],
   "source": [
    "epochs = range(1, int(true_num_epochs) + 1)\n",
    "\n",
    "plt.figure(figsize=(10, 5))\n",
    "\n",
    "plt.plot(epochs, training_loss, 'b-o', label='Training Loss')\n",
    "plt.plot(epochs, validation_loss, 'r-o', label='Validation Loss')\n",
    "plt.title('Training and Validation Loss')\n",
    "plt.xlabel('Epochs')\n",
    "plt.ylabel('Loss')\n",
    "plt.legend()\n",
    "\n",
    "plt.tight_layout()\n",
    "plt.show()"
   ]
  }
 ],
 "metadata": {
  "kaggle": {
   "accelerator": "nvidiaTeslaT4",
   "dataSources": [
    {
     "databundleVersionId": 861823,
     "sourceId": 3004,
     "sourceType": "competition"
    }
   ],
   "dockerImageVersionId": 30805,
   "isGpuEnabled": true,
   "isInternetEnabled": true,
   "language": "python",
   "sourceType": "notebook"
  },
  "kernelspec": {
   "display_name": "emulator",
   "language": "python",
   "name": "python3"
  },
  "language_info": {
   "codemirror_mode": {
    "name": "ipython",
    "version": 3
   },
   "file_extension": ".py",
   "mimetype": "text/x-python",
   "name": "python",
   "nbconvert_exporter": "python",
   "pygments_lexer": "ipython3",
   "version": "3.12.5"
  },
  "papermill": {
   "default_parameters": {},
   "duration": 350.778768,
   "end_time": "2024-08-01T09:39:01.258491",
   "environment_variables": {},
   "exception": null,
   "input_path": "__notebook__.ipynb",
   "output_path": "__notebook__.ipynb",
   "parameters": {},
   "start_time": "2024-08-01T09:33:10.479723",
   "version": "2.3.4"
  }
 },
 "nbformat": 4,
 "nbformat_minor": 5
}
